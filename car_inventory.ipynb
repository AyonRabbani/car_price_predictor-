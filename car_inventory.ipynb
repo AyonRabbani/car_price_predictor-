{
 "cells": [
  {
   "cell_type": "code",
   "execution_count": 1,
   "metadata": {},
   "outputs": [
    {
     "data": {
      "text/html": [
       "<div>\n",
       "<style scoped>\n",
       "    .dataframe tbody tr th:only-of-type {\n",
       "        vertical-align: middle;\n",
       "    }\n",
       "\n",
       "    .dataframe tbody tr th {\n",
       "        vertical-align: top;\n",
       "    }\n",
       "\n",
       "    .dataframe thead th {\n",
       "        text-align: right;\n",
       "    }\n",
       "</style>\n",
       "<table border=\"1\" class=\"dataframe\">\n",
       "  <thead>\n",
       "    <tr style=\"text-align: right;\">\n",
       "      <th></th>\n",
       "      <th>Year</th>\n",
       "      <th>Brand</th>\n",
       "      <th>Model</th>\n",
       "      <th>Mileage</th>\n",
       "      <th>Engine</th>\n",
       "      <th>Price</th>\n",
       "      <th>Features</th>\n",
       "    </tr>\n",
       "  </thead>\n",
       "  <tbody>\n",
       "    <tr>\n",
       "      <th>0</th>\n",
       "      <td>2019</td>\n",
       "      <td>Honda</td>\n",
       "      <td>Accord</td>\n",
       "      <td>NaN</td>\n",
       "      <td>Engine: Intercooled Turbo Regular Unleaded I-4...</td>\n",
       "      <td>$33,015</td>\n",
       "      <td>['4-Wheel Disc Brakes,ABS,Adaptive Cruise Cont...</td>\n",
       "    </tr>\n",
       "    <tr>\n",
       "      <th>1</th>\n",
       "      <td>2019</td>\n",
       "      <td>Honda</td>\n",
       "      <td>Accord</td>\n",
       "      <td>55</td>\n",
       "      <td>Engine: Intercooled Turbo Regular Unleaded I-4...</td>\n",
       "      <td>$25,049</td>\n",
       "      <td>['4-Wheel Disc Brakes,ABS,Adaptive Cruise Cont...</td>\n",
       "    </tr>\n",
       "    <tr>\n",
       "      <th>2</th>\n",
       "      <td>2019</td>\n",
       "      <td>Honda</td>\n",
       "      <td>Accord</td>\n",
       "      <td>5</td>\n",
       "      <td>Engine: Intercooled Turbo Regular Unleaded I-4...</td>\n",
       "      <td>$28,717</td>\n",
       "      <td>['4-Wheel Disc Brakes,ABS,Adaptive Cruise Cont...</td>\n",
       "    </tr>\n",
       "    <tr>\n",
       "      <th>3</th>\n",
       "      <td>2019</td>\n",
       "      <td>Honda</td>\n",
       "      <td>Accord</td>\n",
       "      <td>2</td>\n",
       "      <td>Engine: 1.5L I4 16V GDI DOHC Turbo</td>\n",
       "      <td>$22,640</td>\n",
       "      <td>['ABS and Driveline Traction Control,Adaptive ...</td>\n",
       "    </tr>\n",
       "    <tr>\n",
       "      <th>4</th>\n",
       "      <td>2019</td>\n",
       "      <td>Honda</td>\n",
       "      <td>Accord</td>\n",
       "      <td>6</td>\n",
       "      <td>Engine: 1.5L I4 16V GDI DOHC Turbo</td>\n",
       "      <td>$27,100</td>\n",
       "      <td>['ABS and Driveline Traction Control,Adaptive ...</td>\n",
       "    </tr>\n",
       "  </tbody>\n",
       "</table>\n",
       "</div>"
      ],
      "text/plain": [
       "   Year  Brand   Model Mileage  \\\n",
       "0  2019  Honda  Accord     NaN   \n",
       "1  2019  Honda  Accord      55   \n",
       "2  2019  Honda  Accord       5   \n",
       "3  2019  Honda  Accord       2   \n",
       "4  2019  Honda  Accord       6   \n",
       "\n",
       "                                              Engine    Price  \\\n",
       "0  Engine: Intercooled Turbo Regular Unleaded I-4...  $33,015   \n",
       "1  Engine: Intercooled Turbo Regular Unleaded I-4...  $25,049   \n",
       "2  Engine: Intercooled Turbo Regular Unleaded I-4...  $28,717   \n",
       "3                 Engine: 1.5L I4 16V GDI DOHC Turbo  $22,640   \n",
       "4                 Engine: 1.5L I4 16V GDI DOHC Turbo  $27,100   \n",
       "\n",
       "                                            Features  \n",
       "0  ['4-Wheel Disc Brakes,ABS,Adaptive Cruise Cont...  \n",
       "1  ['4-Wheel Disc Brakes,ABS,Adaptive Cruise Cont...  \n",
       "2  ['4-Wheel Disc Brakes,ABS,Adaptive Cruise Cont...  \n",
       "3  ['ABS and Driveline Traction Control,Adaptive ...  \n",
       "4  ['ABS and Driveline Traction Control,Adaptive ...  "
      ]
     },
     "execution_count": 1,
     "metadata": {},
     "output_type": "execute_result"
    }
   ],
   "source": [
    "import pandas as pd\n",
    "import numpy as np\n",
    "\n",
    "data = pd.read_csv('/Users/ayonrab/Desktop/scraper/car_inventory_lot.csv')\n",
    "data.columns = ['Year', 'Brand', 'Model', 'Mileage', 'Engine', 'Price', 'Features']\n",
    "\n",
    "data.head()"
   ]
  },
  {
   "cell_type": "code",
   "execution_count": 3,
   "metadata": {},
   "outputs": [],
   "source": [
    "#All features available for honda accord\n",
    "# primelist = data['Features'][4]\n",
    "# primelist = primelist.split(\",\")\n",
    "# primelist = [''.join(chr_ for chr_ in primelist[i] if chr_.isalnum()) for i in range(0, len(primelist))]\n",
    "\n",
    "# print(primelist)\n",
    "primelist = ['4WheelDiscBrakes', 'ABS', 'AdaptiveCruiseControl', 'AdjustableSteeringWheel', 'AluminumWheels', 'AMFMStereo', 'AutomaticHeadlights', 'AuxiliaryAudioInput', 'BackUpCamera', 'BlindSpotMonitor', 'BluetoothConnection', 'BrakeAssist', 'BucketSeats', 'ChildSafetyLocks', 'ClimateControl', 'ClothSeats', 'CrossTrafficAlert', 'CruiseControl', 'DaytimeRunningLights', 'DriverAdjustableLumbar', 'DriverAirBag', 'DriverIlluminatedVanityMirror', 'DriverVanityMirror', 'EngineImmobilizer', 'FloorMats', 'FogLamps', 'FrontHeadAirBag', 'FrontSideAirBag', 'FrontWheelDrive', 'GenericSunMoonroof', 'HDRadio', 'HeatedFrontSeats', 'HeatedMirrors', 'IntermittentWipers', 'KeylessEntry', 'KeylessStart', 'KneeAirBag', 'LaneDepartureWarning', 'LaneKeepingAssist', 'MP3Player', 'MultiZoneAC', 'PassThroughRearSeat', 'PassengerAirBag', 'PassengerAirBagSensor', 'PassengerIlluminatedVisorMirror', 'PassengerVanityMirror', 'PowerDoorLocks', 'PowerDriverSeat', 'PowerMirrors', 'PowerSteering', 'PowerWindows', 'RearBenchSeat', 'RearDefrost', 'RearHeadAirBag', 'RemoteEngineStart', 'RequiresSubscription', 'SatelliteRadio', 'SecuritySystem', 'SmartDeviceIntegration', 'StabilityControl', 'SteeringWheelAudioControls', 'SunMoonroof', 'Telematics', 'TemporarySpareTire', 'TirePressureMonitor', 'TiresFrontPerformance', 'TiresRearPerformance', 'TractionControl', 'TripComputer', 'Turbocharged', 'VariableSpeedIntermittentWipers', 'WoodgrainInteriorTrim']"
   ]
  },
  {
   "cell_type": "code",
   "execution_count": 4,
   "metadata": {},
   "outputs": [
    {
     "name": "stderr",
     "output_type": "stream",
     "text": [
      "/anaconda3/lib/python3.7/site-packages/ipykernel_launcher.py:7: SettingWithCopyWarning: \n",
      "A value is trying to be set on a copy of a slice from a DataFrame\n",
      "\n",
      "See the caveats in the documentation: http://pandas.pydata.org/pandas-docs/stable/indexing.html#indexing-view-versus-copy\n",
      "  import sys\n"
     ]
    }
   ],
   "source": [
    "#cleaning feature column from string to list of strings\n",
    "index = data.shape[0]\n",
    "\n",
    "for row in range(0, index):\n",
    "    list_ = data.Features[row].split(\",\")\n",
    "    feature_list = [''.join(chr_ for chr_ in list_[i] if chr_.isalnum()) for i in range(0, len(list_))]\n",
    "    data['Features'][row] = feature_list\n",
    "    "
   ]
  },
  {
   "cell_type": "code",
   "execution_count": 5,
   "metadata": {},
   "outputs": [],
   "source": [
    "#turn price into int\n",
    "data['Price'] = data['Price'].replace({\"\\$\" : \"\", \",\":\"\"}, regex = True)\n",
    "data['Price'] = [float(price) for price in data['Price']]\n",
    "\n",
    "#clean mileage \n",
    "data['Mileage'] = data['Mileage'].replace({\",\": \"\"}, regex = True)\n",
    "data['Mileage'] = [float(miles) for miles in data['Mileage']]"
   ]
  },
  {
   "cell_type": "code",
   "execution_count": 6,
   "metadata": {},
   "outputs": [
    {
     "name": "stderr",
     "output_type": "stream",
     "text": [
      "/anaconda3/lib/python3.7/site-packages/ipykernel_launcher.py:8: SettingWithCopyWarning: \n",
      "A value is trying to be set on a copy of a slice from a DataFrame\n",
      "\n",
      "See the caveats in the documentation: http://pandas.pydata.org/pandas-docs/stable/indexing.html#indexing-view-versus-copy\n",
      "  \n"
     ]
    }
   ],
   "source": [
    "#creating empty columns with nan \n",
    "for feature in primelist: \n",
    "    data[str(feature)] = np.nan \n",
    "#checking for car features: \n",
    "for ind in range(0, len(data['Features'])): \n",
    "    for feature in data['Features'][ind]:\n",
    "        if feature in primelist: \n",
    "            data[str(feature)][ind] = 1\n",
    "#filling all missing values left with 0           \n",
    "data = data.fillna(0)\n"
   ]
  },
  {
   "cell_type": "code",
   "execution_count": 7,
   "metadata": {},
   "outputs": [],
   "source": [
    "#drop feature col\n",
    "data = data.drop(\"Features\", axis=1)"
   ]
  },
  {
   "cell_type": "code",
   "execution_count": 8,
   "metadata": {},
   "outputs": [],
   "source": [
    "#outputfile\n",
    "\n",
    "data.to_csv('inventory_lot_cleaned.csv')"
   ]
  },
  {
   "cell_type": "code",
   "execution_count": null,
   "metadata": {},
   "outputs": [],
   "source": []
  },
  {
   "cell_type": "code",
   "execution_count": null,
   "metadata": {},
   "outputs": [],
   "source": []
  }
 ],
 "metadata": {
  "kernelspec": {
   "display_name": "Python 3",
   "language": "python",
   "name": "python3"
  },
  "language_info": {
   "codemirror_mode": {
    "name": "ipython",
    "version": 3
   },
   "file_extension": ".py",
   "mimetype": "text/x-python",
   "name": "python",
   "nbconvert_exporter": "python",
   "pygments_lexer": "ipython3",
   "version": "3.7.1"
  }
 },
 "nbformat": 4,
 "nbformat_minor": 2
}
